{
 "cells": [
  {
   "cell_type": "code",
   "execution_count": 1,
   "metadata": {},
   "outputs": [],
   "source": [
    "import sys\n",
    "import json\n",
    "\n",
    "sys.path.append('../../../data/corpus-reader/')\n",
    "\n",
    "from benchmark_reader import Benchmark\n",
    "from benchmark_reader import select_files\n",
    "\n",
    "# extract reference texts\n",
    "b = Benchmark()\n",
    "b.fill_benchmark([('../../../data/en/test',\n",
    "                   'rdf-to-text-generation-test-data-with-refs-en.xml')])\n",
    "b.b2json('../eval_metadata/', 'table_data_en.json')"
   ]
  },
  {
   "cell_type": "code",
   "execution_count": 2,
   "metadata": {},
   "outputs": [],
   "source": [
    "html_triplet = '''\n",
    "\n",
    "  <tr>\n",
    "    <td class=\"tg-0lax\">SUBJ</td>\n",
    "    <td class=\"tg-0lax\">PRED</td>\n",
    "    <td class=\"tg-0lax\">OBJ</td>\n",
    "  </tr>\n",
    "\n",
    "'''"
   ]
  },
  {
   "cell_type": "code",
   "execution_count": 3,
   "metadata": {},
   "outputs": [],
   "source": [
    "html_head = '''\n",
    "\n",
    "<div class=\"center\">\n",
    "<table class=\"tg\">\n",
    "\n",
    "<thead>\n",
    "  <tr>\n",
    "    <th class=\"tg-0pky\"><b>Subject</b></th>\n",
    "    <th class=\"tg-0pky\"><b>Predicate</b></th>\n",
    "    <th class=\"tg-0pky\"><b>Object</b></th>\n",
    "  </tr>\n",
    "</thead>\n",
    "\n",
    "<tbody>\n",
    "REPLACE_DATA\n",
    "</tbody>\n",
    "\n",
    "</table>\n",
    "</div>\n",
    "\n",
    "'''"
   ]
  },
  {
   "cell_type": "code",
   "execution_count": 4,
   "metadata": {},
   "outputs": [],
   "source": [
    "with open('../eval_metadata/sampled_ids_en.txt', 'r') as f2:\n",
    "    sampled_ids = f2.read().splitlines()\n",
    "with open('../eval_metadata/table_data_en.json', 'r') as f1:\n",
    "    table_data = json.load(f1)['entries']"
   ]
  },
  {
   "cell_type": "code",
   "execution_count": 5,
   "metadata": {},
   "outputs": [],
   "source": [
    "# get items for the sampled ids\n",
    "sampled_table_data = []\n",
    "for item in table_data:\n",
    "    for key, value in item.items():\n",
    "        if key in sampled_ids:\n",
    "            sampled_table_data.append(item)"
   ]
  },
  {
   "cell_type": "code",
   "execution_count": 6,
   "metadata": {},
   "outputs": [],
   "source": [
    "# prepare triples\n",
    "triplet_data = {}\n",
    "\n",
    "# save info about triple size\n",
    "triple_size = {}\n",
    "\n",
    "for entry in sampled_table_data:\n",
    "    lexs = []\n",
    "    rows = []\n",
    "    for k, v in entry.items():\n",
    "        n = 0\n",
    "        triples = v['modifiedtripleset']       \n",
    "        for t in triples:\n",
    "            subj = t['subject'].replace('_', ' ')\n",
    "            pred = t['property'].replace('_', ' ')\n",
    "            obj = t['object'].replace('_', ' ')\n",
    "            this_t = [subj, pred, obj]\n",
    "            rows.append(this_t)\n",
    "            n += 1\n",
    "        triple_size[k] = n\n",
    "                \n",
    "    triplet_data[k] = []\n",
    "    triplet_data[k].append(rows)"
   ]
  },
  {
   "cell_type": "code",
   "execution_count": 7,
   "metadata": {},
   "outputs": [],
   "source": [
    "# main loop, construct xml tables\n",
    "qual_triplets_vis = {}\n",
    "for sample_id, triplet_set in triplet_data.items():\n",
    "    xml_set = ''\n",
    "    for this_set in triplet_set:\n",
    "        for item in this_set:\n",
    "            subj, pred, obj = item\n",
    "            this_xml_triplet = html_triplet.replace('SUBJ', subj).replace('PRED', pred).replace('OBJ', obj)\n",
    "            xml_set += this_xml_triplet\n",
    "    full_xml_table = html_head.replace('REPLACE_DATA', xml_set)\n",
    "    qual_triplets_vis[sample_id] = full_xml_table"
   ]
  },
  {
   "cell_type": "code",
   "execution_count": 8,
   "metadata": {},
   "outputs": [],
   "source": [
    "with open('../data/en/tables/tables_xml.json', 'w') as f0:\n",
    "    json.dump(qual_triplets_vis, f0)"
   ]
  }
 ],
 "metadata": {
  "kernelspec": {
   "display_name": "Python 3",
   "language": "python",
   "name": "python3"
  },
  "language_info": {
   "codemirror_mode": {
    "name": "ipython",
    "version": 3
   },
   "file_extension": ".py",
   "mimetype": "text/x-python",
   "name": "python",
   "nbconvert_exporter": "python",
   "pygments_lexer": "ipython3",
   "version": "3.7.4"
  }
 },
 "nbformat": 4,
 "nbformat_minor": 2
}
