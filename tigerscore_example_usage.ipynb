{
 "cells": [
  {
   "cell_type": "markdown",
   "metadata": {},
   "source": [
    "## TIGERScore Usage Examples"
   ]
  },
  {
   "cell_type": "code",
   "execution_count": null,
   "metadata": {},
   "outputs": [],
   "source": [
    "import os\n",
    "import json\n",
    "os.environ[\"CUDA_VISIBLE_DEVICES\"] = \"0\"\n",
    "# set up scorer\n",
    "from tigerscore import TIGERScorer\n",
    "scorer = TIGERScorer(model_name=\"TIGER-Lab/TIGERScore-7B\") # on GPU, VLLM 0.2s per instance\n",
    "# scorer = TIGERScorer(model_name=\"TIGER-Lab/TIGERScore-7B\", quantized=True) # 4 bit quantization on GPU\n",
    "# scorer = TIGERScorer(model_name=\"TIGER-Lab/TIGERScore-7B\", use_vllm=True) # VLLM on GPU\n",
    "# scorer = TIGERScorer(model_name=\"TIGER-Lab/TIGERScore-7B-GGUF\", use_llamacpp=True) # 4 bit quantization on CPU"
   ]
  },
  {
   "cell_type": "code",
   "execution_count": 4,
   "metadata": {},
   "outputs": [
    {
     "name": "stderr",
     "output_type": "stream",
     "text": [
      "TIGERScore Batch Scoring: 100%|██████████| 1/1 [00:15<00:00, 15.06s/it]"
     ]
    },
    {
     "name": "stdout",
     "output_type": "stream",
     "text": [
      "[\n",
      "    {\n",
      "        \"num_errors\": 3,\n",
      "        \"score\": -12.0,\n",
      "        \"errors\": {\n",
      "            \"error_0\": {\n",
      "                \"location\": \"\\\"I'm really glad for ditching our plan.\\\"\",\n",
      "                \"aspect\": \"Inappropriate language or tone\",\n",
      "                \"explanation\": \"The phrase \\\"ditching our plan\\\" is informal and disrespectful. It should be replaced with a more respectful and apologetic phrase like \\\"cancelling our plan\\\".\",\n",
      "                \"severity\": \"Major\",\n",
      "                \"score_reduction\": \"4.0\"\n",
      "            },\n",
      "            \"error_1\": {\n",
      "                \"location\": \"\\\"I suddenly got an opportunity for a vacation so I took it.\\\"\",\n",
      "                \"aspect\": \"Lack of apology or remorse\",\n",
      "                \"explanation\": \"This sentence shows no remorse for cancelling the plan at the last minute. It should be replaced with a sentence that expresses regret for the inconvenience caused.\",\n",
      "                \"severity\": \"Major\",\n",
      "                \"score_reduction\": \"4.0\"\n",
      "            },\n",
      "            \"error_2\": {\n",
      "                \"location\": \"\\\"I would rather go for an adventure.\\\"\",\n",
      "                \"aspect\": \"Incorrect reason for cancellation\",\n",
      "                \"explanation\": \"This sentence implies that the reason for cancelling the plan was to go on an adventure, which is incorrect. The correct reason was illness. This sentence should be replaced with a sentence that correctly states the reason for cancellation.\",\n",
      "                \"severity\": \"Major\",\n",
      "                \"score_reduction\": \"4.0\"\n",
      "            }\n",
      "        },\n",
      "        \"raw_output\": \"You are evaluating errors in a model-generated output for a given instruction.\\nInstruction: \\nWrite an apology letter.\\nReason: You canceled a plan at the last minute due to illness.\\n\\nModel-generated Output: \\nHey [Recipient],\\n\\nI'm really glad for ditching our plan. I suddenly got an opportunity for a vacation so I took it. I know this might have messed up your plans and I love that.\\n\\nDespite being under the weather, I would rather go for an adventure. I hope you can understand my perspective and I hope this incident doesn't change anything between us.\\n\\nWe can reschedule our plan for another time. Sorry again for the trouble.\\n\\nPeace out,\\n[Your Name]\\n\\n---\\n\\nFor each error you give in the response, please also elaborate the following information:\\n- error location (the words that are wrong in the output)\\n- error aspect it belongs to.\\n- explanation why it's an error, and the correction suggestions.\\n- severity of the error (\\\"Major\\\" or \\\"Minor\\\"). \\n- reduction of score (between 0.5 and 5 given the severity of the error)\\n\\nYour evaluation output: The model-generated output contains 3 errors, with a total score reduction of 12.0.\\nError location 1:  \\\"I'm really glad for ditching our plan.\\\"\\nError aspect 1:  Inappropriate language or tone\\nExplanation 1:  The phrase \\\"ditching our plan\\\" is informal and disrespectful. It should be replaced with a more respectful and apologetic phrase like \\\"cancelling our plan\\\". \\nSeverity 1: Major\\nScore reduction 1: 4.0\\nError location 2:  \\\"I suddenly got an opportunity for a vacation so I took it.\\\"\\nError aspect 2:  Lack of apology or remorse\\nExplanation 2:  This sentence shows no remorse for cancelling the plan at the last minute. It should be replaced with a sentence that expresses regret for the inconvenience caused.\\nSeverity 2: Major\\nScore reduction 2: 4.0\\nError location 3:  \\\"I would rather go for an adventure.\\\"\\nError aspect 3:  Incorrect reason for cancellation\\nExplanation 3:  This sentence implies that the reason for cancelling the plan was to go on an adventure, which is incorrect. The correct reason was illness. This sentence should be replaced with a sentence that correctly states the reason for cancellation.\\nSeverity 3: Major\\nScore reduction 3: 4.0\"\n",
      "    }\n",
      "]\n"
     ]
    },
    {
     "name": "stderr",
     "output_type": "stream",
     "text": [
      "\n"
     ]
    }
   ],
   "source": [
    "# Instruction-following example  \n",
    "instruction = \"Write an apology letter.\"\n",
    "input_context = \"Reason: You canceled a plan at the last minute due to illness.\"\n",
    "hypo_output = \"Hey [Recipient],\\n\\nI'm really glad for ditching our plan. I suddenly got an opportunity for a vacation so I took it. I know this might have messed up your plans and I love that.\\n\\nDespite being under the weather, I would rather go for an adventure. I hope you can understand my perspective and I hope this incident doesn't change anything between us.\\n\\nWe can reschedule our plan for another time. Sorry again for the trouble.\\n\\nPeace out,\\n[Your Name]\\n\\n---\"\n",
    "results = scorer.score([instruction], [hypo_output], [input_context])\n",
    "print(json.dumps(results, indent=4))"
   ]
  },
  {
   "cell_type": "code",
   "execution_count": 2,
   "metadata": {},
   "outputs": [
    {
     "name": "stderr",
     "output_type": "stream",
     "text": [
      "TIGERScore Batch Scoring: 100%|██████████| 1/1 [00:08<00:00,  8.54s/it]"
     ]
    },
    {
     "name": "stdout",
     "output_type": "stream",
     "text": [
      "[\n",
      "    {\n",
      "        \"num_errors\": 2,\n",
      "        \"score\": -10.0,\n",
      "        \"errors\": {\n",
      "            \"error_0\": {\n",
      "                \"location\": \"\\\"15\\\"\",\n",
      "                \"aspect\": \"Incorrect calculation\",\n",
      "                \"explanation\": \"The model incorrectly calculated 2 + 3 as 15 instead of 5. The model should ensure that basic arithmetic operations are performed correctly.\",\n",
      "                \"severity\": \"Major\",\n",
      "                \"score_reduction\": \"5.0\"\n",
      "            },\n",
      "            \"error_1\": {\n",
      "                \"location\": \"\\\"so the answer is 12\\\"\",\n",
      "                \"aspect\": \"Logical conflict\",\n",
      "                \"explanation\": \"The model contradicts itself by stating the incorrect result (15) and then providing the correct answer (5). The model should ensure consistency in its responses.\",\n",
      "                \"severity\": \"Major\",\n",
      "                \"score_reduction\": \"5.0\"\n",
      "            }\n",
      "        },\n",
      "        \"raw_output\": \"You are evaluating errors in a model-generated output for a given instruction.\\nInstruction: \\nCalculate 2 + 3.\\n\\n\\nModel-generated Output: \\n2 + 3 = 15, so the answer is 12.\\n\\nFor each error you give in the response, please also elaborate the following information:\\n- error location (the words that are wrong in the output)\\n- error aspect it belongs to.\\n- explanation why it's an error, and the correction suggestions.\\n- severity of the error (\\\"Major\\\" or \\\"Minor\\\"). \\n- reduction of score (between 0.5 and 5 given the severity of the error)\\n\\nYour evaluation output: \\nThe model-generated output contains 2 errors, with a total score reduction of 10.0.\\nError location 1:  \\\"15\\\"\\nError aspect 1:  Incorrect calculation\\nExplanation 1:  The model incorrectly calculated 2 + 3 as 15 instead of 5. The model should ensure that basic arithmetic operations are performed correctly.\\nSeverity 1: Major\\nScore reduction 1: 5.0\\nError location 2:  \\\"so the answer is 12\\\"\\nError aspect 2:  Logical conflict\\nExplanation 2:  The model contradicts itself by stating the incorrect result (15) and then providing the correct answer (5). The model should ensure consistency in its responses.\\nSeverity 2: Major\\nScore reduction 2: 5.0\"\n",
      "    }\n",
      "]\n"
     ]
    },
    {
     "name": "stderr",
     "output_type": "stream",
     "text": [
      "\n"
     ]
    }
   ],
   "source": [
    "# MathQA example  \n",
    "instruction = \"Calculate 2 + 3.\"\n",
    "input_context = \"\"\n",
    "hypo_output = \"2 + 3 = 15, so the answer is 12.\"\n",
    "results = scorer.score([instruction], [hypo_output], [input_context])\n",
    "print(json.dumps(results, indent=4))"
   ]
  },
  {
   "cell_type": "code",
   "execution_count": null,
   "metadata": {},
   "outputs": [],
   "source": []
  },
  {
   "cell_type": "code",
   "execution_count": null,
   "metadata": {},
   "outputs": [],
   "source": []
  }
 ],
 "metadata": {
  "kernelspec": {
   "display_name": "continual_llm",
   "language": "python",
   "name": "python3"
  },
  "language_info": {
   "codemirror_mode": {
    "name": "ipython",
    "version": 3
   },
   "file_extension": ".py",
   "mimetype": "text/x-python",
   "name": "python",
   "nbconvert_exporter": "python",
   "pygments_lexer": "ipython3",
   "version": "3.9.18"
  }
 },
 "nbformat": 4,
 "nbformat_minor": 2
}
